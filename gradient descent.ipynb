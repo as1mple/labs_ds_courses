{
 "cells": [
  {
   "cell_type": "code",
   "execution_count": 1,
   "metadata": {},
   "outputs": [],
   "source": [
    "from sympy import *\n",
    "import matplotlib.pyplot as plt\n",
    "import numpy as np"
   ]
  },
  {
   "cell_type": "code",
   "execution_count": 2,
   "metadata": {},
   "outputs": [],
   "source": [
    "ITERATION = 5\n",
    "STEP = .01"
   ]
  },
  {
   "cell_type": "code",
   "execution_count": 3,
   "metadata": {},
   "outputs": [],
   "source": [
    "a1, a2 = symbols(\"a1,a2\")\n",
    "scatter = [np.array([0, 0])]"
   ]
  },
  {
   "cell_type": "code",
   "execution_count": 4,
   "metadata": {},
   "outputs": [
    {
     "data": {
      "text/latex": [
       "$\\displaystyle \\frac{39 a_{1}^{2}}{2} + 23 a_{1} a_{2} - 62 a_{1} + \\frac{39 a_{2}^{2}}{4} - \\frac{79 a_{2}}{2} + \\frac{225}{4}$"
      ],
      "text/plain": [
       "39*a1**2/2 + 23*a1*a2 - 62*a1 + 39*a2**2/4 - 79*a2/2 + 225/4"
      ]
     },
     "execution_count": 4,
     "metadata": {},
     "output_type": "execute_result"
    }
   ],
   "source": [
    "mse = ((a2 + 2*a1 - 5)**2 + (5*a2 + 3*a1 - 6)**2 + (2*a2 + 4*a1 - 10)**2 +(3*a2 + 7*a1 - 8)**2)/4\n",
    "simplify(mse)"
   ]
  },
  {
   "cell_type": "code",
   "execution_count": 5,
   "metadata": {},
   "outputs": [
    {
     "data": {
      "text/plain": [
       "array([23*a1 + 39*a2/2 - 79/2, 39*a1 + 23*a2 - 62], dtype=object)"
      ]
     },
     "execution_count": 5,
     "metadata": {},
     "output_type": "execute_result"
    }
   ],
   "source": [
    "grad = np.array([diff(mse, a2), diff(mse, a1)])\n",
    "grad"
   ]
  },
  {
   "cell_type": "code",
   "execution_count": 6,
   "metadata": {},
   "outputs": [],
   "source": [
    "def plot_move_grad(scatter:list, error:float) -> None:\n",
    "    plt.scatter([x[0] for x in scatter], [y[1] for y in scatter], c='red')\n",
    "    plt.axhline(0)\n",
    "    plt.axvline(0)\n",
    "    plt.xlabel('x')\n",
    "    plt.ylabel('y')\n",
    "    plt.title(f'MSE = {error}')"
   ]
  },
  {
   "cell_type": "code",
   "execution_count": 7,
   "metadata": {},
   "outputs": [
    {
     "name": "stdout",
     "output_type": "stream",
     "text": [
      "scatter = [0 0]\n",
      "mse = 225/4\n",
      "scatter = [0.395000000000000 0.620000000000000]\n",
      "mse = 16.8572437500000\n",
      "scatter = [0.570375000000000 0.907350000000000]\n",
      "mse = 8.59365482859375\n",
      "scatter = [0.645461375000000 1.04229725000000]\n",
      "mse = 6.85191449679268\n",
      "scatter = [0.674868039375000 1.10734520625000]\n",
      "mse = 6.47725148826285\n"
     ]
    },
    {
     "data": {
      "text/plain": [
       "[None, None, None, None, None]"
      ]
     },
     "execution_count": 7,
     "metadata": {},
     "output_type": "execute_result"
    }
   ],
   "source": [
    "[print(f\"scatter = {scatter[-1]}\") or print(f\"mse = {mse.subs({a2:scatter[-1][0], a1:scatter[-1][1]})}\") or  scatter.append(scatter[-1] - STEP *  np.array([grad[i].subs({a2:scatter[-1][0], a1: scatter[-1][1]}) for i in range(2)])) for k in range(ITERATION)]"
   ]
  },
  {
   "cell_type": "code",
   "execution_count": 8,
   "metadata": {},
   "outputs": [
    {
     "data": {
      "image/png": "[encoded data removed]",
      "text/plain": [
       "<Figure size 432x288 with 1 Axes>"
      ]
     },
     "metadata": {
      "needs_background": "light"
     },
     "output_type": "display_data"
    }
   ],
   "source": [
    "plot_move_grad(scatter, mse.subs({a2:scatter[-1][0], a1:scatter[-1][1]}));"
   ]
  }
 ],
 "metadata": {
  "kernelspec": {
   "display_name": "Python 3",
   "language": "python",
   "name": "python3"
  },
  "language_info": {
   "codemirror_mode": {
    "name": "ipython",
    "version": 3
   },
   "file_extension": ".py",
   "mimetype": "text/x-python",
   "name": "python",
   "nbconvert_exporter": "python",
   "pygments_lexer": "ipython3",
   "version": "3.7.5"
  }
 },
 "nbformat": 4,
 "nbformat_minor": 4
}