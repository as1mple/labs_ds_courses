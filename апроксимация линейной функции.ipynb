{
 "cells": [
  {
   "cell_type": "code",
   "execution_count": 1,
   "metadata": {},
   "outputs": [],
   "source": [
    "from sympy import *\n",
    "import numpy as np\n",
    "import matplotlib.pyplot as plt"
   ]
  },
  {
   "cell_type": "code",
   "execution_count": 2,
   "metadata": {},
   "outputs": [],
   "source": [
    "STEP = .01"
   ]
  },
  {
   "cell_type": "code",
   "execution_count": 3,
   "metadata": {},
   "outputs": [],
   "source": [
    "a1, a2 = symbols('a1,a2')"
   ]
  },
  {
   "cell_type": "code",
   "execution_count": 4,
   "metadata": {},
   "outputs": [
    {
     "data": {
      "text/latex": [
       "$\\displaystyle 18.13 a_{1}^{2} + 34.61 a_{1} a_{2} - 34.96 a_{1} + 16.565 a_{2}^{2} - 33.43 a_{2} + 16.875$"
      ],
      "text/plain": [
       "18.13*a1**2 + 34.61*a1*a2 - 34.96*a1 + 16.565*a2**2 - 33.43*a2 + 16.875"
      ]
     },
     "execution_count": 4,
     "metadata": {},
     "output_type": "execute_result"
    }
   ],
   "source": [
    "mse = 1 / 4 * ((4.1 * a1 + 3.9 * a2 - 4.0)**2 + \\\n",
    "               (4.7 * a1 + 4.2 * a2 - 4.3)**2 + \\\n",
    "               (3.1 * a1 + 2.9 * a2 - 3.0)**2 + \\\n",
    "               (4.9 * a1 + 5.0 * a2 - 4.9)**2)\n",
    "simplify(mse)"
   ]
  },
  {
   "cell_type": "code",
   "execution_count": 5,
   "metadata": {},
   "outputs": [
    {
     "data": {
      "text/plain": [
       "array([36.26*a1 + 34.61*a2 - 34.96, 34.61*a1 + 33.13*a2 - 33.43],\n",
       "      dtype=object)"
      ]
     },
     "execution_count": 5,
     "metadata": {},
     "output_type": "execute_result"
    }
   ],
   "source": [
    "grad = np.array([diff(mse, a1), diff(mse, a2)])\n",
    "grad"
   ]
  },
  {
   "cell_type": "code",
   "execution_count": 6,
   "metadata": {},
   "outputs": [
    {
     "name": "stdout",
     "output_type": "stream",
     "text": [
      "Точка = [0 0]\n",
      "MSE = 16.8750000000000\n",
      "Точка = [0.349600000000000 0.334300000000000]\n",
      "MSE = 1.58934775845000\n",
      "Точка = [0.456733810000000 0.436849850000000]\n",
      "MSE = 0.152475176254023\n",
      "Точка = [0.489528397409000 0.468345923054000]\n",
      "MSE = 0.0174061778356472\n",
      "Точка = [0.499530876539507 0.478057140402955]\n",
      "MSE = 0.00470843709035235\n",
      "Точка = [0.502545404412819 0.481089173417132]\n",
      "MSE = 0.00351375729142456\n",
      "Точка = [0.503417477853061 0.482073365796760]\n",
      "MSE = 0.00340038148468236\n",
      "Точка = [0.503632708481283 0.482429670623349]\n",
      "MSE = 0.00338865074786379\n",
      "Точка = [0.503646579383229 0.482593440340461]\n",
      "MSE = 0.00338647584705397\n",
      "Точка = [0.503598739997036 0.482698152431131]\n",
      "MSE = 0.00338520027155468\n"
     ]
    }
   ],
   "source": [
    "scatter = [np.array([0, 0])]\n",
    "[print(f\"Точка = {scatter[-1]}\") or\n",
    " print(f\"MSE = {mse.subs({a1:scatter[-1][0], a2:scatter[-1][1]})}\") or\n",
    " scatter.append(scatter[-1] - STEP * np.array([grad[i].subs({a1:scatter[-1][0], a2:scatter[-1][1]}) for i in range(2)])) for iteration in range(10)];"
   ]
  },
  {
   "cell_type": "code",
   "execution_count": 7,
   "metadata": {},
   "outputs": [],
   "source": [
    "def plot_mse(scatter:list, mse) -> None:\n",
    "    mse_scatter = [mse.subs({a1:scatter[i][0], a2:scatter[i][1]}) for i in range(len(scatter)-1)]\n",
    "    plt.scatter([x + 1 for x in range(len(mse_scatter))], [y for y in mse_scatter], c = 'red')\n",
    "    plt.xlim(2.5, len(mse_scatter))\n",
    "    plt.ylim(0, 0.25)\n",
    "    plt.axhline(0)\n",
    "    plt.axvline(0)\n",
    "    plt.xlabel('Итерация')\n",
    "    plt.ylabel('MSE')\n",
    "    plt.title('Зависимость MSE от итерации градиентного спуска')\n",
    "    plt.plot([i + 1  for i in range(len(mse_scatter))], mse_scatter);"
   ]
  },
  {
   "cell_type": "code",
   "execution_count": 8,
   "metadata": {},
   "outputs": [
    {
     "data": {
      "image/png": "[encoded data removed]",
      "text/plain": [
       "<Figure size 432x288 with 1 Axes>"
      ]
     },
     "metadata": {
      "needs_background": "light"
     },
     "output_type": "display_data"
    }
   ],
   "source": [
    "plot_mse(scatter, mse)"
   ]
  }
 ],
 "metadata": {
  "kernelspec": {
   "display_name": "Python 3",
   "language": "python",
   "name": "python3"
  },
  "language_info": {
   "codemirror_mode": {
    "name": "ipython",
    "version": 3
   },
   "file_extension": ".py",
   "mimetype": "text/x-python",
   "name": "python",
   "nbconvert_exporter": "python",
   "pygments_lexer": "ipython3",
   "version": "3.7.5"
  }
 },
 "nbformat": 4,
 "nbformat_minor": 4
}
