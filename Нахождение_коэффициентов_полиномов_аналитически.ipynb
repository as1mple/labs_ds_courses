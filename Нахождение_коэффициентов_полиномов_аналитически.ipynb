{
 "cells": [
  {
   "cell_type": "code",
   "execution_count": 1,
   "metadata": {
    "colab": {},
    "colab_type": "code",
    "id": "67VSSj5P12-l"
   },
   "outputs": [],
   "source": [
    "from sympy import *\n",
    "from sympy.plotting import plot\n",
    "import numpy as np\n",
    "import matplotlib.pyplot as plt"
   ]
  },
  {
   "cell_type": "code",
   "execution_count": 2,
   "metadata": {},
   "outputs": [],
   "source": [
    "def find_k_polinom(coordinate: list) -> tuple:\n",
    "    '''Поиск коеф. полинома для задачи интерполяции, в данном случае полином 3 степеня,\n",
    "    поскольку кство данных точек равно 4.\n",
    "    Стандартный вид полинома 3 степеня a3*x^3 + a2*x^2 + a1*x1 + a0'''\n",
    "    [print(f\"x = {i[0]},   \\t y = {i[1]}\") for i in coordinate]  #  Вывод данных координат\n",
    "    a3, a2, a1, a0 = symbols('a3, a2,a1,a0')   # Обьявление искомых параметров\n",
    "    #  Построение уравнений системы для поиска полиномиальных коеф\n",
    "    eq_n = [a3 * coordinate[i][0] ** 3 + a2 * coordinate[i][0]**2 + a1 * coordinate[i][0] + a0 - coordinate[i][1] for i in  range(len(coordinate)) ]\n",
    "    return list(nonlinsolve(eq_n, [a3, a2,a1,a0]))[0]"
   ]
  },
  {
   "cell_type": "code",
   "execution_count": 3,
   "metadata": {},
   "outputs": [],
   "source": [
    "example =[(-0.5,-15.0),(-1,-31),(0,-7),(0.5,-4)]"
   ]
  },
  {
   "cell_type": "code",
   "execution_count": 4,
   "metadata": {
    "scrolled": true
   },
   "outputs": [
    {
     "name": "stdout",
     "output_type": "stream",
     "text": [
      "x = -0.5,   \t y = -15.0\n",
      "x = -1,   \t y = -31\n",
      "x = 0,   \t y = -7\n",
      "x = 0.5,   \t y = -4\n",
      "a0 = -7.00000000000000, \t a1 = 10.0000000000000, \t a2 = -10.0000000000000, \t a3 = 4.00000000000000\n"
     ]
    }
   ],
   "source": [
    "a3, a2, a1, a0 = find_k_polinom(example)\n",
    "print(\"a0 = {}, \\t a1 = {}, \\t a2 = {}, \\t a3 = {}\".format(a0,a1,a2,a3))"
   ]
  },
  {
   "cell_type": "code",
   "execution_count": 5,
   "metadata": {},
   "outputs": [],
   "source": [
    "x = Symbol('x')\n",
    "func =a3 * x**3 +  a2 * x**2 + a1 * x + a0"
   ]
  },
  {
   "cell_type": "code",
   "execution_count": 6,
   "metadata": {
    "scrolled": true
   },
   "outputs": [
    {
     "data": {
      "text/plain": [
       "[<matplotlib.lines.Line2D at 0x7fb4c0b77590>]"
      ]
     },
     "execution_count": 6,
     "metadata": {},
     "output_type": "execute_result"
    },
    {
     "data": {
      "image/png": "[encoded data removed]",
      "text/plain": [
       "<Figure size 432x288 with 1 Axes>"
      ]
     },
     "metadata": {
      "needs_background": "light"
     },
     "output_type": "display_data"
    }
   ],
   "source": [
    "f = lambda x : eval(str(func))\n",
    "x_range = np.linspace(-1.5, 1.5, 100)\n",
    "plt.scatter([i[0] for i in example], [j[1] for j in example])\n",
    "plt.axhline(0, c = 'blue')\n",
    "plt.axvline(0, c = 'blue')\n",
    "plt.xlabel('x')\n",
    "plt.ylabel('y')\n",
    "plt.title('Полиномиальная интерполяция')\n",
    "plt.plot(x_range, f(x_range))"
   ]
  },
  {
   "cell_type": "code",
   "execution_count": 7,
   "metadata": {
    "pycharm": {
     "name": "#%%\n"
    }
   },
   "outputs": [
    {
     "name": "stdout",
     "output_type": "stream",
     "text": [
      "x = -0.5, \t y = -15.0000000000000\n",
      "x = -1, \t y = -31.0000000000000\n",
      "x = 0, \t y = -7.00000000000000\n",
      "x = 0.5, \t y = -4.00000000000000\n"
     ]
    },
    {
     "data": {
      "text/plain": [
       "[None, None, None, None]"
      ]
     },
     "execution_count": 7,
     "metadata": {},
     "output_type": "execute_result"
    }
   ],
   "source": [
    "[print(f\"x = {i[0]}, \\t y = {func.subs(x, i[0])}\") for i in example]"
   ]
  }
 ],
 "metadata": {
  "colab": {
   "collapsed_sections": [],
   "name": "Нахождение коэффициентов полиномов аналитически. Практика.ipynb",
   "provenance": []
  },
  "kernelspec": {
   "display_name": "Python 3",
   "language": "python",
   "name": "python3"
  },
  "language_info": {
   "codemirror_mode": {
    "name": "ipython",
    "version": 3
   },
   "file_extension": ".py",
   "mimetype": "text/x-python",
   "name": "python",
   "nbconvert_exporter": "python",
   "pygments_lexer": "ipython3",
   "version": "3.7.5"
  }
 },
 "nbformat": 4,
 "nbformat_minor": 1
}